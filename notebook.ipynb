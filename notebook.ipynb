{
  "cells": [
    {
      "cell_type": "markdown",
      "metadata": {
        "id": "EUSvb7WtISSV"
      },
      "source": [
        "# [Decipher](https://github.com/dsymbol/decipher) 📺️ Colab Notebook\n",
        "\n",
        "If you have any issues, questions or suggestions, post an issue [here](https://github.com/dsymbol/decipher/issues).\n",
        "\n",
        "If you would like to submit a pull request, please do so [here](https://github.com/dsymbol/decipher/pulls)."
      ]
    },
    {
      "cell_type": "code",
      "execution_count": null,
      "metadata": {
        "cellView": "form",
        "id": "0OTuWHHYKbvp"
      },
      "outputs": [],
      "source": [
        "#@title ## Install Decipher\n",
        "\n",
        "#@markdown Make sure the Hardware accelerator is set to GPU, go to Runtime > Change runtime type and select GPU in the \"Hardware accelerator\" dropdown menu then click \"Save\".\n",
        "\n",
        "!nvidia-smi\n",
        "!apt update && apt install ffmpeg\n",
        "!pip uninstall torch -y\n",
        "!pip install torch==2.1.1\n",
        "!pip install git+https://github.com/dsymbol/decipher"
      ]
    },
    {
      "cell_type": "code",
      "execution_count": null,
      "metadata": {
        "cellView": "form",
        "id": "t0KFB3nxQN93"
      },
      "outputs": [],
      "source": [
        "#@title ## Mount Google Drive\n",
        "\n",
        "#@markdown This allows you to read and write files directly to your Google Drive from within the Colab notebook. Keep in mind that this step is not mandatory, but without it, the files will only be temporarily available within the Colab notebook until runtime disconnects.\n",
        "\n",
        "from google.colab import drive\n",
        "import os\n",
        "\n",
        "path = '/content/gdrive/MyDrive/decipher'\n",
        "drive.mount('/content/gdrive')\n",
        "\n",
        "if not os.path.exists(path):\n",
        "  os.mkdir(path)\n",
        "\n",
        "%cd /content/gdrive/MyDrive/decipher"
      ]
    },
    {
      "cell_type": "code",
      "execution_count": null,
      "metadata": {
        "cellView": "form",
        "id": "PZyvUtXHqqlZ"
      },
      "outputs": [],
      "source": [
        "#@title Transcribe\n",
        "\n",
        "#@markdown Allows you to transcribe a video file into a SubRip Subtitle (SRT) file. It also has the option to automatically add the generated subtitles to the video.\n",
        "\n",
        "input = \"\" #@param {type:\"string\"}\n",
        "output_dir = \"result\" #@param {type:\"string\"}\n",
        "model = \"small\" #@param ['tiny.en','tiny','base.en','base','small.en','small','medium.en','medium','large-v1','large-v2','large']\n",
        "language = \"\" #@param {type:\"string\"}\n",
        "task = \"transcribe\" #@param [\"transcribe\", \"translate\"]\n",
        "batch_size = 24 #@param {type:\"integer\"}\n",
        "subtitle_action = \"None\" #@param [\"None\", \"add\", \"burn\"]\n",
        "\n",
        "from decipher.action import transcribe\n",
        "import os\n",
        "\n",
        "dir = os.getcwd()\n",
        "\n",
        "transcribe(\n",
        "    input,\n",
        "    output_dir if output_dir else \"result\",\n",
        "    model if model else \"small\",\n",
        "    language if language else None,\n",
        "    task,\n",
        "    batch_size,\n",
        "    subtitle_action if subtitle_action != \"None\" else None\n",
        ")\n",
        "\n",
        "os.chdir(dir)"
      ]
    },
    {
      "cell_type": "code",
      "execution_count": null,
      "metadata": {
        "cellView": "form",
        "id": "vmETI7dTAN0i"
      },
      "outputs": [],
      "source": [
        "#@title Subtitle\n",
        "\n",
        "#@markdown Allows you to add subtitles to a video using an already existing SRT file. Does not perform transcription, but rather assumes that the SRT file has already been created. It is typically used by people who want to validate the accuracy of generated transcription.\n",
        "\n",
        "input = \"\" #@param {type:\"string\"}\n",
        "output_dir = \"result\" #@param {type:\"string\"}\n",
        "subtitle_file = \"\" #@param {type:\"string\"}\n",
        "subtitle_action = \"burn\" #@param [\"add\", \"burn\"]\n",
        "\n",
        "from decipher.action import subtitle\n",
        "\n",
        "dir = os.getcwd()\n",
        "\n",
        "subtitle(\n",
        "    input,\n",
        "    output_dir if output_dir else \"result\",\n",
        "    subtitle_file,\n",
        "    subtitle_action\n",
        ")\n",
        "\n",
        "os.chdir(dir)"
      ]
    }
  ],
  "metadata": {
    "accelerator": "GPU",
    "colab": {
      "private_outputs": true,
      "provenance": []
    },
    "gpuClass": "standard",
    "kernelspec": {
      "display_name": "Python 3",
      "name": "python3"
    },
    "language_info": {
      "name": "python"
    }
  },
  "nbformat": 4,
  "nbformat_minor": 0
}
